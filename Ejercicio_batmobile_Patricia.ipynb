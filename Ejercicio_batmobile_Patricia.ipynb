{
  "nbformat": 4,
  "nbformat_minor": 5,
  "metadata": {
    "kernelspec": {
      "display_name": "Python 3",
      "language": "python",
      "name": "python3"
    },
    "language_info": {
      "codemirror_mode": {
        "name": "ipython",
        "version": 3
      },
      "file_extension": ".py",
      "mimetype": "text/x-python",
      "name": "python",
      "nbconvert_exporter": "python",
      "pygments_lexer": "ipython3",
      "version": "3.8.8"
    },
    "colab": {
      "name": "batmovil.ipynb",
      "provenance": [],
      "include_colab_link": true
    }
  },
  "cells": [
    {
      "cell_type": "markdown",
      "metadata": {
        "id": "view-in-github",
        "colab_type": "text"
      },
      "source": [
        "<a href=\"https://colab.research.google.com/github/Patriciafg27/MIA3_Actividades_Grupo4/blob/main/Ejercicio_batmobile_Patricia.ipynb\" target=\"_parent\"><img src=\"https://colab.research.google.com/assets/colab-badge.svg\" alt=\"Open In Colab\"/></a>"
      ]
    },
    {
      "cell_type": "markdown",
      "metadata": {
        "id": "85827732"
      },
      "source": [
        "## Ejercicio 1\n",
        "\n",
        "Hola chicos, Cristopher Nolan está aquí. No hables de esto, pero estoy haciendo una nueva película de Batman y necesito tu ayuda para diseñar el nuevo Batimóvil. Para esta ocasión me gustaría que lo diseñaras como varias clases de Python.\n",
        "\n",
        "Diseña la clase principal de Batimóvil con los siguientes atributos: Piloto (podría ser Batman o Robin), número de batrockets cargados, número de pem (estos son pulsos electromagnéticos para contrarrestar las armas del Joker) usos restantes, litros de gas que quedan en el batimóvil.\n",
        "\n",
        "Agregue los siguientes métodos a la clase Batimóvil: un método para acelerar el batimóvil y conducir una cierta distancia, un método para activar el turbo y conducir una cierta distancia más rápido que el método normal, un método para lanzar un cohete a un colega de Joker, un método para lanzar un uso de pem.\n",
        "\n",
        "Crea las siguientes clases para interactuar con el Batimóvil: Joker, Joker Villain, Rocket, PEM Pulse.\n",
        "\n",
        "La clase Joker y Jokker Villain debe tener un parámetro llamado KO que se convertirá en True cuando reciban un Rocket. También tienen un parámetro llamado Arma que debería cambiar a falso si reciben un PEM Pulse.\n",
        "\n",
        "El Rocket y el PEM Pulse son las municiones del Batmóvil, el coche solo puede usar las armas si tiene munición en el arsenal.\n",
        "\n",
        "Finalmente dibuje un diagrama de las clases usando diagram.io mostrando cómo interactúan"
      ],
      "id": "85827732"
    },
    {
      "cell_type": "code",
      "metadata": {
        "id": "2038091c"
      },
      "source": [
        "import random\n",
        "def segundos_a_segundos_minutos_y_horas(segundos):\n",
        "    horas = int(segundos / 60 / 60)\n",
        "    segundos -= horas*60*60\n",
        "    minutos = int(segundos/60)\n",
        "    segundos -= minutos*60\n",
        "    return f\"{horas:02d}:{minutos:02d}:{segundos:02d}\""
      ],
      "id": "2038091c",
      "execution_count": 28,
      "outputs": []
    },
    {
      "cell_type": "code",
      "metadata": {
        "id": "5oWGfjyXyzbC"
      },
      "source": [
        "class Batmobile:\n",
        "    def __init__(self,pilot,batrockets,pem,gas): #Constructor\n",
        "        if ((pilot.upper()==\"BATMAN\" or pilot.upper()==\"ROBIN\") and isinstance(batrockets,int) and (isinstance(gas,(int,float)))):\n",
        "            self.pilot=pilot\n",
        "            self.batrockets=batrockets\n",
        "            self.pem=pem\n",
        "            self.gas=gas\n",
        "        else:\n",
        "            raise Exception(\"Hay alguna variable mal introducida\")\n",
        "\n",
        "    def rocket(self,target):  #Disparo de cohete\n",
        "        disparo = False\n",
        "        if isinstance(target,Joker_Villain) or isinstance(target,Joker):\n",
        "            if self.batrockets>0:\n",
        "                hit=random.randint(1,5) #Probabilty of hit 80%\n",
        "                self.batrockets-=1\n",
        "                if hit<5:\n",
        "                    target.KO=True\n",
        "                    print(f\"El enemigo {target} ha sido golpeado con un misil!\")\n",
        "                    disparo = True\n",
        "            elif hit==5:\n",
        "                target.KO=False\n",
        "                print(f\"El enemigo {target} ha evitado tu misil.\")\n",
        "            else:\n",
        "                print(\"No quedan cohetes.\")\n",
        "        else:\n",
        "            raise Exception(f\"El enemigo {target} no pertenece a una clase válida\")\n",
        "        return disparo\n",
        "        \n",
        "    def pem_defense(self,target):\n",
        "        if isinstance(target,Joker_Villain) or isinstance(target,Joker):\n",
        "            if self.pem>0:\n",
        "                hit=random.randint(1,10) #Probabilty of hit 90%\n",
        "                self.pem-=1\n",
        "            if hit<10:\n",
        "                target.Weapon=False\n",
        "                print(f\"El arma del enemigo {target} ha sido inhabilitada.\")\n",
        "            elif hit==10:\n",
        "                target.pem=True\n",
        "                print(f\"El impulso pem no ha podido inhabilitar el arma del enemigo {target}.\")\n",
        "            else:\n",
        "                print(\"No quedan impulsos pem.\")\n",
        "        else:\n",
        "            raise Exception(f\"El enemigo {target} no pertenece a una clase válida\")\n",
        "\n",
        "    def acelerar_normal(self,potencia_acelerador,tiempo): \n",
        "        aceleracion_max=3.30\n",
        "        velocidad_max=69.44\n",
        "        aceleracion=potencia_acelerador*aceleracion_max \n",
        "        velocidad=aceleracion*tiempo\n",
        "        consumo=0.00015\n",
        "        if self.gas>0:\n",
        "            if potencia_acelerador>=0 and potencia_acelerador<=1 and tiempo>=0: #Exigimos que las variables estén bien definidas\n",
        "                if velocidad<=velocidad_max: #Si la velocidad al final entra dentro de lo esperado se calcula asi\n",
        "                    if 1/2*aceleracion*tiempo**2*(consumo)<=self.gas: #Si la distancia esperada a recorrer gasta menos que la gasolina disponible\n",
        "                        distancia=1/2*aceleracion*tiempo**2\n",
        "                        self.gas-=distancia*consumo\n",
        "                        print(f\"Distancia recorrida: {round(distancia/1000,2)} km\")\n",
        "                        print(f\"Tiempo empleado: {segundos_a_segundos_minutos_y_horas(tiempo)} h/min/sec\")\n",
        "                        print(f\"Potencia del acelerador: {potencia_acelerador*100}%\")\n",
        "                        print(f\"Velocidad final: {velocidad*3.6}km/h\")\n",
        "                        print(f\"Gasolina consumida: {round(consumo*distancia,2)}L\")\n",
        "                        print(f\"Gasolina restante: {round(self.gas,2)}L\")\n",
        "                    else: \n",
        "                        print(\"No hay suficiente gasolina para hacer este recorrido\")\n",
        "\n",
        "                else: #Si la velocidad al final pasa del límite posible, tenemos que trabajar con la distancia recorrida hasta llegar al limite y luego la recorrida con la velocidad maxima constante\n",
        "                    if (1/2*aceleracion*(velocidad_max/aceleracion)**2+velocidad_max*(tiempo-velocidad_max/aceleracion))*consumo<=self.gas:\n",
        "                        distancia=1/2*aceleracion*(velocidad_max/aceleracion)**2+velocidad_max*(tiempo-velocidad_max/aceleracion)\n",
        "                        self.gas-=distancia*consumo\n",
        "                        print(f\"Distancia recorrida: {round(distancia/1000,2)} km\")\n",
        "                        print(f\"Tiempo empleado: {segundos_a_segundos_minutos_y_horas(tiempo)} h/min/sec\")\n",
        "                        print(f\"Potencia del acelerador: {potencia_acelerador*100}%\")\n",
        "                        print(f\"Velocidad final: {velocidad_max*3.6}km/h\")\n",
        "                        print(f\"Gasolina consumida: {round(consumo*distancia,2)}L\")\n",
        "                        print(f\"Gasolina restante: {round(self.gas,2)}L\")\n",
        "                    else:\n",
        "                        print(\"No hay suficiente gasolina para hacer este recorrido\")\n",
        "            else:\n",
        "                print(\"Recuerda que la potencia del acelerador debe estar entre [0,1] y el tiempo >=0\")\n",
        "        else:\n",
        "            print(\"No hay gasolina\")\n",
        "\n",
        "\n",
        "    def acelerar_turbo(self,potencia_acelerador,tiempo): \n",
        "        aceleracion_max=4.79\n",
        "        velocidad_max=91.66\n",
        "        aceleracion=potencia_acelerador*aceleracion_max\n",
        "        velocidad=aceleracion*tiempo\n",
        "        consumo=0.00015\n",
        "        if self.gas>0:\n",
        "            if potencia_acelerador>=0 and potencia_acelerador<=1 and tiempo>=0:\n",
        "                if velocidad<=velocidad_max:\n",
        "                    if 1/2*aceleracion*tiempo**2*(consumo)<=self.gas: #Si la distancia esperada a recorrer gasta menos que la gasolina disponible\n",
        "                        distancia=1/2*aceleracion*tiempo**2\n",
        "                        self.gas-=distancia*consumo\n",
        "                        print(f\"Distancia recorrida: {round(distancia/1000,2)} km\")\n",
        "                        print(f\"Tiempo empleado: {segundos_a_segundos_minutos_y_horas(tiempo)} h/min/sec\")\n",
        "                        print(f\"Potencia del acelerador: {potencia_acelerador*100}%\")\n",
        "                        print(f\"Velocidad final: {velocidad*3.6}km/h\")\n",
        "                        print(f\"Gasolina consumida: {round(consumo*distancia,2)}L\")\n",
        "                        print(f\"Gasolina restante: {round(self.gas,2)}L\")\n",
        "                    else: \n",
        "                        print(\"No hay suficiente gasolina para hacer este recorrido\")\n",
        "                else:\n",
        "                    if (1/2*aceleracion*(velocidad_max/aceleracion)**2+velocidad_max*(tiempo-velocidad_max/aceleracion))*consumo<=self.gas:\n",
        "                        distancia=1/2*aceleracion*(velocidad_max/aceleracion)**2+velocidad_max*(tiempo-velocidad_max/aceleracion)\n",
        "                        self.gas-=distancia*consumo\n",
        "                        print(f\"Distancia recorrida: {round(distancia/1000,2)} km\")\n",
        "                        print(f\"Tiempo empleado: {segundos_a_segundos_minutos_y_horas(tiempo)} h/min/sec\")\n",
        "                        print(f\"Potencia del acelerador: {potencia_acelerador*100}%\")\n",
        "                        print(f\"Velocidad final: {velocidad_max*3.6}km/h\")\n",
        "                        print(f\"Gasolina consumida: {round(consumo*distancia,2)}L\")\n",
        "                        print(f\"Gasolina restante: {round(self.gas,2)}L\")\n",
        "                    else:\n",
        "                        print(\"No hay suficiente gasolina para hacer este recorrido\")\n",
        "            else:\n",
        "                print(\"Recuerda que la potencia del acelerador debe estar entre [0,1] y el tiempo >=0\")\n",
        "        else:\n",
        "            print(\"No hay gasolina\")"
      ],
      "id": "5oWGfjyXyzbC",
      "execution_count": 29,
      "outputs": []
    },
    {
      "cell_type": "code",
      "metadata": {
        "id": "7YHY28dfyzs3"
      },
      "source": [
        "batmobile1=Batmobile(pilot=\"Batman\",batrockets=100,pem=20,gas=60)"
      ],
      "id": "7YHY28dfyzs3",
      "execution_count": 30,
      "outputs": []
    },
    {
      "cell_type": "code",
      "metadata": {
        "id": "PRZv7F_ly7Vn",
        "outputId": "f04f6ae9-e6c8-48b0-af35-825d4348a8e4",
        "colab": {
          "base_uri": "https://localhost:8080/"
        }
      },
      "source": [
        "print(\"//////////Sin turbo//////////\\n\")\n",
        "batmobile1.acelerar_normal(1,60)\n",
        "print(\"\\n//////////Con turbo//////////\\n\")\n",
        "batmobile1.acelerar_turbo(1,60)"
      ],
      "id": "PRZv7F_ly7Vn",
      "execution_count": 31,
      "outputs": [
        {
          "output_type": "stream",
          "name": "stdout",
          "text": [
            "//////////Sin turbo//////////\n",
            "\n",
            "Distancia recorrida: 3.44 km\n",
            "Tiempo empleado: 00:01:00 h/min/sec\n",
            "Potencia del acelerador: 100%\n",
            "Velocidad final: 249.984km/h\n",
            "Gasolina consumida: 0.52L\n",
            "Gasolina restante: 59.48L\n",
            "\n",
            "//////////Con turbo//////////\n",
            "\n",
            "Distancia recorrida: 4.62 km\n",
            "Tiempo empleado: 00:01:00 h/min/sec\n",
            "Potencia del acelerador: 100%\n",
            "Velocidad final: 329.976km/h\n",
            "Gasolina consumida: 0.69L\n",
            "Gasolina restante: 58.79L\n"
          ]
        }
      ]
    },
    {
      "cell_type": "code",
      "metadata": {
        "id": "0c868b5c"
      },
      "source": [
        "class Joker:\n",
        "    \n",
        "    def __init__(self, KO, arma, puntos):\n",
        "        self.ko = KO\n",
        "        self.arma = arma\n",
        "        self.puntos = puntos\n",
        "    \n",
        "    def puntuacion(self):\n",
        "        if(self.ko == True):\n",
        "            self.puntos -= 10\n",
        "            print(\"Nivel de vida del Joker:\", self.puntos)\n",
        "        else:\n",
        "            print(\"Sigue intentando matarme! <Yo no soy un monstruo, sólo voy un paso por delante>, dice Joker!\")\n",
        "    \n",
        "    def estado_armas(self):\n",
        "        if(self.arma == True):\n",
        "            print(\"Joker ha sido dañado por un PEM y esta en shok. Necesitará 10 segundos para recuperarse\", self.puntos)\n",
        "        else:\n",
        "            print(\"Sigue intentandolo! <Yo no soy un monstruo, sólo voy un paso por delante>, dice Joker!\")\n"
      ],
      "id": "0c868b5c",
      "execution_count": 32,
      "outputs": []
    },
    {
      "cell_type": "code",
      "metadata": {
        "id": "XaJDALcR2y1x"
      },
      "source": [
        "class Joker_Villain:\n",
        "    \n",
        "    def __init__(self, KO, arma, equipo_villanos):\n",
        "        self.ko = KO\n",
        "        self.arma = arma\n",
        "        self.equipo_villanos = equipo_villanos\n",
        "    \n",
        "    def puntuacion(self):\n",
        "        if(self.ko == True):\n",
        "            print(\"Uno de los villanos del Joker ha sido derrotado. Sigue matandolos!\", self.puntos)\n",
        "            self.equipo_villanos -= 1\n",
        "            print(\"Quedan \" ,self.equipo_villanos, \" villanos por matar!\" )\n",
        "        else:\n",
        "            print(\"El villano del Joker ha esquivado tu Rocket!\")\n",
        "            print(\"Quedan \" ,self.equipo_villanos, \" villanos por matar!\")\n",
        "\n",
        "    def estado_armas_villanos(self):\n",
        "        if(self.arma == True):\n",
        "            print(\"El villano ha sido dañado por un PEM y esta en shok.\", self.puntos)\n",
        "        else:\n",
        "            print(\"Tu PEM no ha alcanzado al villano ):\")"
      ],
      "id": "XaJDALcR2y1x",
      "execution_count": 27,
      "outputs": []
    },
    {
      "cell_type": "code",
      "metadata": {
        "id": "eOA-9pyh_tz0",
        "outputId": "5dcf6cec-765d-46e7-a101-d575e25d735d",
        "colab": {
          "base_uri": "https://localhost:8080/",
          "height": 391
        }
      },
      "source": [
        "# Esto es como el script inicial\n",
        "import time\n",
        "\n",
        "print(\"EMPIEZA EL JUEGO\".center(100,'-'))\n",
        "print(\"¡¡Batman trata de matar al Joker y sus villanos!!\".center(100,'-'))\n",
        "print('\\n\\n\\n')\n",
        "\n",
        "#Datos de Batman\n",
        "batrocket = 100\n",
        "pem = 20\n",
        "gas = 60\n",
        "batmobile1=Batmobile(\"Batman\",batrocket,pem,gas)\n",
        "\n",
        "\n",
        "# Datos del Joker y sus villanos.\n",
        "puntos_de_vida_Joker = 100\n",
        "joker = Joker(False, False, puntuacion)\n",
        "lanzarockets_joker = batmobile1.rocket(joker)\n",
        "\n",
        "villanos = Joker_Villain(False, False, equipo_Joker)\n",
        "#lanzarockets_villano = batmobile1.rocket(Joker_Villain)\n",
        "\n",
        "\n",
        "# Juego:\n",
        "\n",
        "while True:\n",
        "  try:\n",
        "      if(lanzarockets_joker == True):\n",
        "        joker = Joker(True, False, puntuacion)\n",
        "        joker.puntuacion()\n",
        "        puntuacion -= 10\n",
        "  except Exception as e:\n",
        "      print(\"Ha ocurrido un error: \", e)\n",
        "  time.sleep(2)"
      ],
      "id": "eOA-9pyh_tz0",
      "execution_count": 50,
      "outputs": [
        {
          "output_type": "stream",
          "name": "stdout",
          "text": [
            "------------------------------------------EMPIEZA EL JUEGO------------------------------------------\n",
            "-------------------------¡¡Batman trata de matar al Joker y sus villanos!!--------------------------\n",
            "\n",
            "\n",
            "\n",
            "\n",
            "El enemigo <__main__.Joker object at 0x7fc44e2c6790> ha sido golpeado con un misil!\n",
            "Nivel de vida del Joker: -50\n",
            "Nivel de vida del Joker: -60\n",
            "Nivel de vida del Joker: -70\n",
            "Nivel de vida del Joker: -80\n"
          ]
        },
        {
          "output_type": "error",
          "ename": "KeyboardInterrupt",
          "evalue": "ignored",
          "traceback": [
            "\u001b[0;31m---------------------------------------------------------------------------\u001b[0m",
            "\u001b[0;31mKeyboardInterrupt\u001b[0m                         Traceback (most recent call last)",
            "\u001b[0;32m<ipython-input-50-595877d51dc2>\u001b[0m in \u001b[0;36m<module>\u001b[0;34m()\u001b[0m\n\u001b[1;32m     32\u001b[0m   \u001b[0;32mexcept\u001b[0m \u001b[0mException\u001b[0m \u001b[0;32mas\u001b[0m \u001b[0me\u001b[0m\u001b[0;34m:\u001b[0m\u001b[0;34m\u001b[0m\u001b[0;34m\u001b[0m\u001b[0m\n\u001b[1;32m     33\u001b[0m       \u001b[0mprint\u001b[0m\u001b[0;34m(\u001b[0m\u001b[0;34m\"Ha ocurrido un error: \"\u001b[0m\u001b[0;34m,\u001b[0m \u001b[0me\u001b[0m\u001b[0;34m)\u001b[0m\u001b[0;34m\u001b[0m\u001b[0;34m\u001b[0m\u001b[0m\n\u001b[0;32m---> 34\u001b[0;31m   \u001b[0mtime\u001b[0m\u001b[0;34m.\u001b[0m\u001b[0msleep\u001b[0m\u001b[0;34m(\u001b[0m\u001b[0;36m2\u001b[0m\u001b[0;34m)\u001b[0m\u001b[0;34m\u001b[0m\u001b[0;34m\u001b[0m\u001b[0m\n\u001b[0m",
            "\u001b[0;31mKeyboardInterrupt\u001b[0m: "
          ]
        }
      ]
    },
    {
      "cell_type": "code",
      "metadata": {
        "id": "a231d672"
      },
      "source": [
        ""
      ],
      "id": "a231d672",
      "execution_count": null,
      "outputs": []
    }
  ]
}