{
  "nbformat": 4,
  "nbformat_minor": 5,
  "metadata": {
    "kernelspec": {
      "display_name": "Python 3",
      "language": "python",
      "name": "python3"
    },
    "language_info": {
      "codemirror_mode": {
        "name": "ipython",
        "version": 3
      },
      "file_extension": ".py",
      "mimetype": "text/x-python",
      "name": "python",
      "nbconvert_exporter": "python",
      "pygments_lexer": "ipython3",
      "version": "3.8.8"
    },
    "colab": {
      "name": "batmovil.ipynb",
      "provenance": [],
      "include_colab_link": true
    }
  },
  "cells": [
    {
      "cell_type": "markdown",
      "metadata": {
        "id": "view-in-github",
        "colab_type": "text"
      },
      "source": [
        "<a href=\"https://colab.research.google.com/github/Patriciafg27/MIA3_Actividades_Grupo4/blob/main/Ejercicio_batmobile_Patricia.ipynb\" target=\"_parent\"><img src=\"https://colab.research.google.com/assets/colab-badge.svg\" alt=\"Open In Colab\"/></a>"
      ]
    },
    {
      "cell_type": "markdown",
      "metadata": {
        "id": "85827732"
      },
      "source": [
        "## Ejercicio 1\n",
        "\n",
        "Hola chicos, Cristopher Nolan está aquí. No hables de esto, pero estoy haciendo una nueva película de Batman y necesito tu ayuda para diseñar el nuevo Batimóvil. Para esta ocasión me gustaría que lo diseñaras como varias clases de Python.\n",
        "\n",
        "Diseña la clase principal de Batimóvil con los siguientes atributos: Piloto (podría ser Batman o Robin), número de batrockets cargados, número de pem (estos son pulsos electromagnéticos para contrarrestar las armas del Joker) usos restantes, litros de gas que quedan en el batimóvil.\n",
        "\n",
        "Agregue los siguientes métodos a la clase Batimóvil: un método para acelerar el batimóvil y conducir una cierta distancia, un método para activar el turbo y conducir una cierta distancia más rápido que el método normal, un método para lanzar un cohete a un colega de Joker, un método para lanzar un uso de pem.\n",
        "\n",
        "Crea las siguientes clases para interactuar con el Batimóvil: Joker, Joker Villain, Rocket, PEM Pulse.\n",
        "\n",
        "La clase Joker y Jokker Villain debe tener un parámetro llamado KO que se convertirá en True cuando reciban un Rocket. También tienen un parámetro llamado Arma que debería cambiar a falso si reciben un PEM Pulse.\n",
        "\n",
        "El Rocket y el PEM Pulse son las municiones del Batmóvil, el coche solo puede usar las armas si tiene munición en el arsenal.\n",
        "\n",
        "Finalmente dibuje un diagrama de las clases usando diagram.io mostrando cómo interactúan"
      ],
      "id": "85827732"
    },
    {
      "cell_type": "code",
      "metadata": {
        "id": "2038091c"
      },
      "source": [
        "class Joker:\n",
        "    \n",
        "    def __init__(self, KO, arma, distancia, puntos):\n",
        "        self.ko = KO\n",
        "        self.arma = arma\n",
        "        self.distancia = distancia\n",
        "        self.puntos = puntos\n",
        "    \n",
        "    # El estado del Joker depende de los  ataques de Batman. Por lo que si batman tiene municion, y esta cerca de el:\n",
        "    # Le golpeará, quitandole puntos de vida, y pudiendo llegar a matarlo\n",
        "    \n",
        "    def estado_por_rocket(self):\n",
        "        print(\"Joker se encuentra a una distancia de\", self.distancia, \"metros\")\n",
        "        if(self.distancia < 30):\n",
        "            self.ko = True\n",
        "            if (self.ko == True & self.distancia <= 10):\n",
        "                self.puntos -= 10\n",
        "                print(\"Joker ha sido dañado por un rocket y esta en shok. Necesitará 10 segundos para recuperarse.\")\n",
        "                print(\"\\n Nivel de vida:\", self.puntos)\n",
        "            else:\n",
        "                self.puntos -= 5\n",
        "                print(\"Joker ha sido dañado por un rocket y esta en shok. Necesitará 5 segundos para recuperarse.\")\n",
        "                print(\"\\n Nivel de vida:\", self.puntos)\n",
        "        else:\n",
        "            self.ko = False\n",
        "            print(\"Joker ha esquivado el rocket con exito. Batman tendrá que meter el turbo si quiere cogerle.\")\n",
        "        \n",
        "    def vida_o_muerte(self):\n",
        "        if(self.puntos <= 0):\n",
        "            print(\"¿Cara: no te vuelo la cara. Cruz: mala suerte? .... Mala suerte!\")\n",
        "        else:\n",
        "            print(\"Sigue intentando matarlo! <Yo no soy un monstruo, sólo voy un paso por delante>, dice Joker\")"
      ],
      "id": "2038091c",
      "execution_count": 4,
      "outputs": []
    },
    {
      "cell_type": "code",
      "metadata": {
        "colab": {
          "base_uri": "https://localhost:8080/"
        },
        "id": "0c868b5c",
        "outputId": "d9d5b121-e555-42d1-bd7b-01a6d95e3c68"
      },
      "source": [
        "prueba = Joker(False,False,10, 100)\n",
        "distancia = prueba.estado_por_rocket()\n",
        "distancia"
      ],
      "id": "0c868b5c",
      "execution_count": 5,
      "outputs": [
        {
          "output_type": "stream",
          "name": "stdout",
          "text": [
            "Joker se encuentra a una distancia de 10 metros\n",
            "Joker ha sido dañado por un rocket y esta en shok. Necesitará 5 segundos para recuperarse.\n",
            "\n",
            " Nivel de vida: 95\n"
          ]
        }
      ]
    },
    {
      "cell_type": "code",
      "metadata": {
        "colab": {
          "base_uri": "https://localhost:8080/"
        },
        "id": "aebc8619",
        "outputId": "8a3806c8-dbac-43db-f265-08f2386d35c0"
      },
      "source": [
        "Joker = prueba.vida_o_muerte()\n",
        "Joker"
      ],
      "id": "aebc8619",
      "execution_count": 6,
      "outputs": [
        {
          "output_type": "stream",
          "name": "stdout",
          "text": [
            "Sigue intentando matarlo! <Yo no soy un monstruo, sólo voy un paso por delante>, dice Joker\n"
          ]
        }
      ]
    },
    {
      "cell_type": "code",
      "metadata": {
        "id": "a231d672"
      },
      "source": [
        ""
      ],
      "id": "a231d672",
      "execution_count": null,
      "outputs": []
    }
  ]
}